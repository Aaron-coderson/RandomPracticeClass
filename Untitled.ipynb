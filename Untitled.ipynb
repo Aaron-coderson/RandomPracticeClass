{
 "cells": [
  {
   "cell_type": "code",
   "execution_count": null,
   "metadata": {},
   "outputs": [],
   "source": [
    "\"\"\"H.W. write a function called find_extrema(data_dict) which takes in a dictionary that contains data points. Your function needs to return a new dictionary with the exact same keys as the original dictionary. In the new dictionary, each key should reference to a list that contains the min and max of the list of numbers from the original dictionary. For example:\n",
    "\n",
    "input_dictionary = {'A' : [3, 1, 4, 2, 6],\n",
    "'B' : [3, 1, 4, 2],\n",
    "'C': [1, 3, 4, 5]}\n",
    "\n",
    "output_dictionary = {'A': [1, 6],\n",
    "'B': [1, 4],\n",
    "'C': [1, 5]}\n",
    "\"\"\""
   ]
  }
 ],
 "metadata": {
  "kernelspec": {
   "display_name": "Python 3",
   "language": "python",
   "name": "python3"
  },
  "language_info": {
   "codemirror_mode": {
    "name": "ipython",
    "version": 3
   },
   "file_extension": ".py",
   "mimetype": "text/x-python",
   "name": "python",
   "nbconvert_exporter": "python",
   "pygments_lexer": "ipython3",
   "version": "3.7.3"
  }
 },
 "nbformat": 4,
 "nbformat_minor": 2
}
