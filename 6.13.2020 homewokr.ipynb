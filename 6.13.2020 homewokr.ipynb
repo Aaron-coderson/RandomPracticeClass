{
 "cells": [
  {
   "cell_type": "code",
   "execution_count": 47,
   "metadata": {},
   "outputs": [
    {
     "data": {
      "text/plain": [
       "'match'"
      ]
     },
     "execution_count": 47,
     "metadata": {},
     "output_type": "execute_result"
    }
   ],
   "source": [
    "def q1(strt):\n",
    "    import re\n",
    "    lens = len(strt)\n",
    "    tsh = re.findall(r'a+|A+|b+|c+|C+|d+|D+|e+|E+|f+|F+|g+|G+|h+|H+|i+|I+|j+|J+|k+|K+|l+|L+|m+|M+|n+|N+|o+|O+|p+|P+|q+|Q+|r+|R+|s+|S+|t+|T+|u+|U+|v+|V+|w+|W+|x+|X+|y+|z+|Z+|1+|2+|3+|4+|5+|6+|7+|8+|9+|0+',strt)\n",
    "    hh = \"\"\n",
    "\n",
    "    if strt == (hh.join(tsh)) :\n",
    "        return(\"match\")\n",
    "    else:\n",
    "        return(\"no match\")\n",
    "\n",
    "    \n",
    "    \n",
    "q1(\"12\")\n",
    "    "
   ]
  },
  {
   "cell_type": "code",
   "execution_count": 38,
   "metadata": {},
   "outputs": [
    {
     "name": "stdout",
     "output_type": "stream",
     "text": [
      "match\n"
     ]
    }
   ],
   "source": [
    "def q2(strg):\n",
    "    import re\n",
    "    lensh = len(strg)\n",
    "    tshop1 = re.findall(r'a', strg)\n",
    "    tshop2 = re.findall(r'ab+', strg)\n",
    "    \n",
    "    if len(tshop1)>0 or len(tshop2)>0:\n",
    "        return(\"match\")\n",
    "    else:\n",
    "        return(\"no match\")\n",
    "q2(\"abb\")"
   ]
  },
  {
   "cell_type": "code",
   "execution_count": 48,
   "metadata": {},
   "outputs": [
    {
     "data": {
      "text/plain": [
       "'match'"
      ]
     },
     "execution_count": 48,
     "metadata": {},
     "output_type": "execute_result"
    }
   ],
   "source": [
    "def q3(strj):\n",
    "    import re\n",
    "    lensj = len(strj)\n",
    "    tjuj1 = re.findall(r'ab+',strj)\n",
    "    if len(tjuj1)>0:\n",
    "           return(\"match\")\n",
    "    else:\n",
    "           return(\"no match\")\n",
    "    \n",
    "    \n",
    "q3(\"ab\")\n",
    "    "
   ]
  },
  {
   "cell_type": "code",
   "execution_count": null,
   "metadata": {},
   "outputs": [],
   "source": []
  }
 ],
 "metadata": {
  "kernelspec": {
   "display_name": "Python 3",
   "language": "python",
   "name": "python3"
  },
  "language_info": {
   "codemirror_mode": {
    "name": "ipython",
    "version": 3
   },
   "file_extension": ".py",
   "mimetype": "text/x-python",
   "name": "python",
   "nbconvert_exporter": "python",
   "pygments_lexer": "ipython3",
   "version": "3.7.3"
  }
 },
 "nbformat": 4,
 "nbformat_minor": 2
}
