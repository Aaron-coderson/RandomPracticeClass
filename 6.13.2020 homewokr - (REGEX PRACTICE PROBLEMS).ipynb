{
 "cells": [
  {
   "cell_type": "code",
   "execution_count": 15,
   "metadata": {},
   "outputs": [
    {
     "data": {
      "text/plain": [
       "'match'"
      ]
     },
     "execution_count": 15,
     "metadata": {},
     "output_type": "execute_result"
    }
   ],
   "source": [
    "def q1(strt):\n",
    "    import re\n",
    "    lens = len(strt)\n",
    "    tsh = re.findall(r'a+|A+|b+|c+|C+|d+|D+|e+|E+|f+|F+|g+|G+|h+|H+|i+|I+|j+|J+|k+|K+|l+|L+|m+|M+|n+|N+|o+|O+|p+|P+|q+|Q+|r+|R+|s+|S+|t+|T+|u+|U+|v+|V+|w+|W+|x+|X+|y+|z+|Z+|1+|2+|3+|4+|5+|6+|7+|8+|9+|0+',strt)\n",
    "    hh = \"\"\n",
    "\n",
    "    if strt == (hh.join(tsh)) :\n",
    "        return(\"match\")\n",
    "    else:\n",
    "        return(\"no match\")\n",
    "\n",
    "    \n",
    "    \n",
    "q1(\"12\")\n",
    "    "
   ]
  },
  {
   "cell_type": "code",
   "execution_count": 16,
   "metadata": {},
   "outputs": [
    {
     "data": {
      "text/plain": [
       "'match'"
      ]
     },
     "execution_count": 16,
     "metadata": {},
     "output_type": "execute_result"
    }
   ],
   "source": [
    "def q2(strg):\n",
    "    import re\n",
    "    lensh = len(strg)\n",
    "    tshop1 = re.findall(r'a', strg)\n",
    "    tshop2 = re.findall(r'ab+', strg)\n",
    "    hh =\"\"\n",
    "    if (hh.join(tshop1))==strg or (hh.join(tshop2))==strg:\n",
    "        return(\"match\")\n",
    "    else:\n",
    "        return(\"no match\")\n",
    "q2(\"abb\")"
   ]
  },
  {
   "cell_type": "code",
   "execution_count": 17,
   "metadata": {},
   "outputs": [
    {
     "data": {
      "text/plain": [
       "'match'"
      ]
     },
     "execution_count": 17,
     "metadata": {},
     "output_type": "execute_result"
    }
   ],
   "source": [
    "def q3(strj):\n",
    "    import re\n",
    "    lensj = len(strj)\n",
    "    tjuj1 = re.findall(r'ab+',strj)\n",
    "    hh = \"\"\n",
    "    if (hh.join(tjuj1))==strj:\n",
    "           return(\"match\")\n",
    "    else:\n",
    "           return(\"no match\")\n",
    "    \n",
    "    \n",
    "q3(\"abb\")\n",
    "    "
   ]
  },
  {
   "cell_type": "code",
   "execution_count": 26,
   "metadata": {},
   "outputs": [
    {
     "data": {
      "text/plain": [
       "'no match'"
      ]
     },
     "execution_count": 26,
     "metadata": {},
     "output_type": "execute_result"
    }
   ],
   "source": [
    "def q4(strx):\n",
    "    import re\n",
    "    lensh = len(strx)\n",
    "    tshop1 = re.findall(r'a', strx)\n",
    "    tshop2 = re.findall(r'ab', strx)\n",
    "    hh =\"\"\n",
    "    if (hh.join(tshop1))==strx or (hh.join(tshop2))==strx:\n",
    "        return(\"match\")\n",
    "    else:\n",
    "        return(\"no match\")\n",
    "\n",
    "q4(\"a&\")"
   ]
  },
  {
   "cell_type": "code",
   "execution_count": 30,
   "metadata": {},
   "outputs": [
    {
     "data": {
      "text/plain": [
       "'match'"
      ]
     },
     "execution_count": 30,
     "metadata": {},
     "output_type": "execute_result"
    }
   ],
   "source": [
    "def q5(strx):\n",
    "    import re\n",
    "    lensh = len(strx)\n",
    "    tshop1 = re.findall(r'abbb', strx)\n",
    "    hh =\"\"\n",
    "    if (hh.join(tshop1))==strx:\n",
    "        return(\"match\")\n",
    "    else:\n",
    "        return(\"no match\")\n",
    "\n",
    "q5(\"abbb\")"
   ]
  },
  {
   "cell_type": "code",
   "execution_count": 33,
   "metadata": {},
   "outputs": [
    {
     "data": {
      "text/plain": [
       "'match'"
      ]
     },
     "execution_count": 33,
     "metadata": {},
     "output_type": "execute_result"
    }
   ],
   "source": [
    "def q6(strx):\n",
    "    import re\n",
    "    lensh = len(strx)\n",
    "    tshop1 = re.findall(r'abb', strx)\n",
    "    tshop2 = re.findall(r'abbb', strx)\n",
    "    hh =\"\"\n",
    "    if (hh.join(tshop1))==strx or (hh.join(tshop2))==strx:\n",
    "        return(\"match\")\n",
    "    else:\n",
    "        return(\"no match\")\n",
    "\n",
    "q6(\"abb\")"
   ]
  },
  {
   "cell_type": "code",
   "execution_count": 2,
   "metadata": {},
   "outputs": [],
   "source": []
  },
  {
   "cell_type": "code",
   "execution_count": null,
   "metadata": {},
   "outputs": [],
   "source": []
  }
 ],
 "metadata": {
  "kernelspec": {
   "display_name": "Python 3",
   "language": "python",
   "name": "python3"
  },
  "language_info": {
   "codemirror_mode": {
    "name": "ipython",
    "version": 3
   },
   "file_extension": ".py",
   "mimetype": "text/x-python",
   "name": "python",
   "nbconvert_exporter": "python",
   "pygments_lexer": "ipython3",
   "version": "3.7.3"
  }
 },
 "nbformat": 4,
 "nbformat_minor": 2
}
