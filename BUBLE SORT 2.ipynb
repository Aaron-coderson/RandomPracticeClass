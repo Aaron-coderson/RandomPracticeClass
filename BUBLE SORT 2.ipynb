{
 "cells": [
  {
   "cell_type": "code",
   "execution_count": 1,
   "metadata": {},
   "outputs": [
    {
     "data": {
      "text/plain": [
       "[22, 9, 9, 6, 4, 3, 2, 1, 1]"
      ]
     },
     "execution_count": 1,
     "metadata": {},
     "output_type": "execute_result"
    }
   ],
   "source": [
    "def bub_sort(codr):\n",
    "    for i in range(len(codr)):\n",
    "        for j in range (len(codr)-i-1):\n",
    "            if codr[j]<codr[j+1]:\n",
    "                n = codr[j+1]\n",
    "                codr[j+1] = codr[j]\n",
    "                codr[j] = n\n",
    "    return codr\n",
    "bub_sort([1,1,9,9,2,22,3,4,6,])"
   ]
  },
  {
   "cell_type": "code",
   "execution_count": null,
   "metadata": {},
   "outputs": [],
   "source": []
  }
 ],
 "metadata": {
  "kernelspec": {
   "display_name": "Python 3",
   "language": "python",
   "name": "python3"
  },
  "language_info": {
   "codemirror_mode": {
    "name": "ipython",
    "version": 3
   },
   "file_extension": ".py",
   "mimetype": "text/x-python",
   "name": "python",
   "nbconvert_exporter": "python",
   "pygments_lexer": "ipython3",
   "version": "3.7.3"
  }
 },
 "nbformat": 4,
 "nbformat_minor": 2
}
