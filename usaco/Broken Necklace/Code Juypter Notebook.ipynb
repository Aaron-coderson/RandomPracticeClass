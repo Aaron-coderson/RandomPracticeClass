{
 "cells": [
  {
   "cell_type": "markdown",
   "metadata": {},
   "source": [
    "Broken Necklace\n",
    "You have a necklace of N red, white, or blue beads (3<=N<=350) some of which are red, others blue, and others white, arranged at random. Here are two examples for n=29:\n",
    "\n",
    "                1 2                               1 2\n",
    "            r b b r                           b r r b\n",
    "          r         b                       b         b\n",
    "         r           r                     b           r\n",
    "        r             r                   w             r\n",
    "       b               r                 w               w\n",
    "      b                 b               r                 r\n",
    "      b                 b               b                 b\n",
    "      b                 b               r                 b\n",
    "       r               r                 b               r\n",
    "        b             r                   r             r\n",
    "         b           r                     r           r\n",
    "           r       r                         r       b\n",
    "             r b r                             r r w\n",
    "            Figure A                         Figure B\n",
    "                        r red bead\n",
    "                        b blue bead\n",
    "                        w white bead\n",
    "The beads considered first and second in the text that follows have been marked in the picture.\n",
    "\n",
    "The configuration in Figure A may be represented as a string of b's and r's, where b represents a blue bead and r represents a red one, as follows: brbrrrbbbrrrrrbrrbbrbbbbrrrrb .\n",
    "\n",
    "Suppose you are to break the necklace at some point, lay it out straight, and then collect beads of the same color from one end until you reach a bead of a different color, and do the same for the other end (which might not be of the same color as the beads collected before this).\n",
    "\n",
    "Determine the point where the necklace should be broken so that the most number of beads can be collected.\n",
    "\n",
    "Example\n",
    "For example, for the necklace in Figure A, 8 beads can be collected, with the breaking point either between bead 9 and bead 10 or else between bead 24 and bead 25.\n",
    "\n",
    "In some necklaces, white beads had been included as shown in Figure B above. When collecting beads, a white bead that is encountered may be treated as either red or blue and then painted with the desired color. The string that represents this configuration can include any of the three symbols r, b and w.\n",
    "\n",
    "Write a program to determine the largest number of beads that can be collected from a supplied necklace.\n",
    "\n",
    "PROGRAM NAME: beads\n",
    "INPUT FORMAT\n",
    "Line 1:\tN, the number of beads\n",
    "Line 2:\ta string of N characters, each of which is r, b, or w\n",
    "SAMPLE INPUT (file beads.in)\n",
    "29\n",
    "wwwbbrwrbrbrrbrbrwrwwrbwrwrrb\n",
    "OUTPUT FORMAT\n",
    "A single line containing the maximum of number of beads that can be collected from the supplied necklace.\n",
    "SAMPLE OUTPUT (file beads.out)\n",
    "11\n",
    "OUTPUT EXPLANATION\n",
    "Consider two copies of the beads (kind of like being able to runaround the ends). The string of 11 is marked.\n",
    "                Two necklace copies joined here\n",
    "                             v\n",
    "wwwbbrwrbrbrrbrbrwrwwrbwrwrrb|wwwbbrwrbrbrrbrbrwrwwrbwrwrrb\n",
    "                       ******|*****\n",
    "                       rrrrrb|bbbbb  <-- assignments\n",
    "                   5xr .....#|#####  6xb\n",
    "\n",
    "                        5+6 = 11 total\n"
   ]
  },
  {
   "cell_type": "code",
   "execution_count": null,
   "metadata": {},
   "outputs": [],
   "source": []
  }
 ],
 "metadata": {
  "kernelspec": {
   "display_name": "Python 3",
   "language": "python",
   "name": "python3"
  },
  "language_info": {
   "codemirror_mode": {
    "name": "ipython",
    "version": 3
   },
   "file_extension": ".py",
   "mimetype": "text/x-python",
   "name": "python",
   "nbconvert_exporter": "python",
   "pygments_lexer": "ipython3",
   "version": "3.7.3"
  }
 },
 "nbformat": 4,
 "nbformat_minor": 2
}
