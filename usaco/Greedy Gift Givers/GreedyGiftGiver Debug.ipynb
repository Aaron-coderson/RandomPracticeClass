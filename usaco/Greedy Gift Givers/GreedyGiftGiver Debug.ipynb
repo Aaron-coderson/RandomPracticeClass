{
 "cells": [
  {
   "cell_type": "code",
   "execution_count": 8,
   "metadata": {},
   "outputs": [
    {
     "name": "stdout",
     "output_type": "stream",
     "text": [
      "{'dave ': 302.0, 'laura ': 66.0, 'owen ': -359.0, 'vick ': 141.0, 'amr ': -150.0}\n"
     ]
    }
   ],
   "source": [
    "\"\"\"\n",
    "ID: vijayaa1\n",
    "LANG: PYTHON3\n",
    "TASK: gift1\n",
    "\"\"\"\n",
    "fin = open(\"gift1.in\", \"r\")\n",
    "fout = open('gift1.out', 'w').close()\n",
    "fout = open('gift1.out', 'a')\n",
    "\n",
    "#get data into var\n",
    "x = fin.read().split('\\n')\n",
    "data = []\n",
    "for line in x:\n",
    "    data.append(line)\n",
    "# checks how many participants and pops value\n",
    "num_par = int(data[0])\n",
    "data.pop(0)\n",
    "\n",
    "participant = {}\n",
    "for names in range(num_par):\n",
    "    participant[data[0]] = 0\n",
    "    data.pop(0)\n",
    "#print(data)\n",
    "\n",
    "while data != []:\n",
    "    giver = data.pop(0)\n",
    "    if data == []:\n",
    "        break\n",
    "    amt_rec = data.pop(0).split(' ')\n",
    "    #print(amt_rec)\n",
    "    amount = int(amt_rec[0])\n",
    "    num_rec = int(amt_rec[1])\n",
    "    participant[giver] -= amount\n",
    "    if num_rec ==0:\n",
    "        break\n",
    "    if amount % num_rec != 0:\n",
    "        v = amount % num_rec\n",
    "        amount = amount - v\n",
    "        participant[giver] += v\n",
    "    for i in range(num_rec):\n",
    "        receiver = data.pop(0)\n",
    "        participant[receiver] += amount/num_rec\n",
    "    fout\n",
    "for part in participant:\n",
    "    output = part + ' ' + str(participant[part]) + '\\n'\n",
    "    fout.write(output)\n",
    "fout.close()\n",
    "\n",
    "print(participant)"
   ]
  },
  {
   "cell_type": "code",
   "execution_count": null,
   "metadata": {},
   "outputs": [],
   "source": []
  }
 ],
 "metadata": {
  "kernelspec": {
   "display_name": "Python 3",
   "language": "python",
   "name": "python3"
  },
  "language_info": {
   "codemirror_mode": {
    "name": "ipython",
    "version": 3
   },
   "file_extension": ".py",
   "mimetype": "text/x-python",
   "name": "python",
   "nbconvert_exporter": "python",
   "pygments_lexer": "ipython3",
   "version": "3.7.3"
  }
 },
 "nbformat": 4,
 "nbformat_minor": 2
}
