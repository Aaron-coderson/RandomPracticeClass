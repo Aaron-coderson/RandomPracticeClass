{
 "cells": [
  {
   "cell_type": "code",
   "execution_count": 10,
   "metadata": {},
   "outputs": [
    {
     "data": {
      "text/plain": [
       "{'even': [0, 2, 4, 6, 8], 'odd': [0.3, 1, 3, 5, 7, 9]}"
      ]
     },
     "execution_count": 10,
     "metadata": {},
     "output_type": "execute_result"
    }
   ],
   "source": [
    "def o_e_dic(input):\n",
    "    even_nums = []\n",
    "    odd_nums = []\n",
    "    for ins in input:\n",
    "        if ins % 2 == 0:\n",
    "            even_nums.append(ins)\n",
    "        else:\n",
    "            odd_nums.append(ins)\n",
    "    \n",
    "    dic_out ={'even':even_nums,\n",
    "             'odd':odd_nums}\n",
    "    return dic_out\n",
    "\n",
    "o_e_dic([0,1,2,3,4,5,6,7,8,9])\n",
    "            "
   ]
  },
  {
   "cell_type": "code",
   "execution_count": null,
   "metadata": {},
   "outputs": [],
   "source": []
  }
 ],
 "metadata": {
  "kernelspec": {
   "display_name": "Python 3",
   "language": "python",
   "name": "python3"
  },
  "language_info": {
   "codemirror_mode": {
    "name": "ipython",
    "version": 3
   },
   "file_extension": ".py",
   "mimetype": "text/x-python",
   "name": "python",
   "nbconvert_exporter": "python",
   "pygments_lexer": "ipython3",
   "version": "3.7.3"
  }
 },
 "nbformat": 4,
 "nbformat_minor": 2
}
