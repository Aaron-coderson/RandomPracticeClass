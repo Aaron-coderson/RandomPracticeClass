{
 "cells": [
  {
   "cell_type": "markdown",
   "metadata": {},
   "source": [
    "HW 1: Write a Python program to create and display all combinations of letters, selecting each letter from a different key in a dictionary. \n",
    "Sample data : {'1':['a','b'], '2':['c','d']}\n",
    "Expected Output:\n",
    "ac\n",
    "ad\n",
    "bc\n",
    "bd\n"
   ]
  },
  {
   "cell_type": "code",
   "execution_count": 28,
   "metadata": {
    "scrolled": false
   },
   "outputs": [
    {
     "data": {
      "text/plain": [
       "['ad',\n",
       " 'ae',\n",
       " 'af',\n",
       " 'bd',\n",
       " 'be',\n",
       " 'bf',\n",
       " 'cd',\n",
       " 'ce',\n",
       " 'cf',\n",
       " 'bd',\n",
       " 'be',\n",
       " 'bf',\n",
       " 'da',\n",
       " 'db',\n",
       " 'dc',\n",
       " 'db',\n",
       " 'ea',\n",
       " 'eb',\n",
       " 'ec',\n",
       " 'eb',\n",
       " 'fa',\n",
       " 'fb',\n",
       " 'fc',\n",
       " 'fb']"
      ]
     },
     "execution_count": 28,
     "metadata": {},
     "output_type": "execute_result"
    }
   ],
   "source": [
    "def problem(dic):\n",
    "    gh = len(dic['1'])\n",
    "    hg = len(dic['2'])\n",
    "\n",
    "    g = 0\n",
    "    k = []\n",
    "    \n",
    "#first start\n",
    "    for y in range(gh):\n",
    "        for z in range(hg):\n",
    "            k.append(str(dic['1'][y]) + str(dic['2'][z]))\n",
    "    \n",
    "#second start\n",
    "\n",
    "    for y in range(hg):\n",
    "        for z in range(gh):\n",
    "            k.append(str(dic['2'][y]) + str(dic['1'][z]))\n",
    "        \n",
    "    return(k)\n",
    "\n",
    "\n",
    "problem({'1': ['a', 'b','c','b'], '2': ['d', 'e','f']})"
   ]
  },
  {
   "cell_type": "markdown",
   "metadata": {},
   "source": [
    "HW2: Write a function which accepts a sequence of comma separated 4 digit binary numbers as its input and then check whether they are divisible by 5 or not. The numbers that are divisible by 5 are to be printed in a comma separated sequence."
   ]
  },
  {
   "cell_type": "code",
   "execution_count": 31,
   "metadata": {},
   "outputs": [
    {
     "data": {
      "text/plain": [
       "['1111', '1010', '101']"
      ]
     },
     "execution_count": 31,
     "metadata": {},
     "output_type": "execute_result"
    }
   ],
   "source": [
    "def hw2(binum):\n",
    "    outs = []\n",
    "    for bii in binum:\n",
    "        decimal = 0\n",
    "        for digit in bii:\n",
    "            decimal = decimal*2 + int(digit)\n",
    "\n",
    "        if decimal%5 == 0:\n",
    "            outs.append(bii)\n",
    "    return(outs)\n",
    "input = ['1111','0100','0011','1010','1001','101']\n",
    "hw2(input)"
   ]
  },
  {
   "cell_type": "code",
   "execution_count": null,
   "metadata": {},
   "outputs": [],
   "source": []
  }
 ],
 "metadata": {
  "kernelspec": {
   "display_name": "Python 3",
   "language": "python",
   "name": "python3"
  },
  "language_info": {
   "codemirror_mode": {
    "name": "ipython",
    "version": 3
   },
   "file_extension": ".py",
   "mimetype": "text/x-python",
   "name": "python",
   "nbconvert_exporter": "python",
   "pygments_lexer": "ipython3",
   "version": "3.7.3"
  }
 },
 "nbformat": 4,
 "nbformat_minor": 2
}
