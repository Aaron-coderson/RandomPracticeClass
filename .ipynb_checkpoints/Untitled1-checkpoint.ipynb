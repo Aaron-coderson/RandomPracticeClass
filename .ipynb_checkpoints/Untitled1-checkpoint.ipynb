{
 "cells": [
  {
   "cell_type": "code",
   "execution_count": 43,
   "metadata": {},
   "outputs": [
    {
     "data": {
      "text/plain": [
       "{'A': [-6, -1], 'B': [1, 4], 'C': [1, 5], 'D': [0.22, 54.11]}"
      ]
     },
     "execution_count": 43,
     "metadata": {},
     "output_type": "execute_result"
    }
   ],
   "source": [
    "\"\"\"H.W. write a function called find_extrema(data_dict)\n",
    "   which takes in a dictionary that contains data points. \n",
    "   Your function needs to return a new dictionary with\n",
    "   the exact same keys as the original dictionary.\n",
    "   In the new dictionary, each key should reference\n",
    "   to a list that contains the min and max of the list\n",
    "   of numbers from the original dictionary. \n",
    "   \n",
    "   For example:\n",
    "\n",
    "input_dictionary = {'A' : [3, 1, 4, 2, 6],\n",
    "'B' : [3, 1, 4, 2],\n",
    "'C': [1, 3, 4, 5]}\n",
    "\n",
    "output_dictionary = {'A': [1, 6],\n",
    "'B': [1, 4],\n",
    "'C': [1, 5]}\n",
    "\n",
    "\n",
    "\"\"\"\n",
    "\"\"\"\"\"\"\n",
    "def find_extremae(data_dict):\n",
    "    x = len(data_dict)\n",
    "    out_dict = {}\n",
    "    \n",
    "    for j in data_dict:\n",
    "        minm = min(data_dict[j])\n",
    "        maxm = max(data_dict[j])\n",
    "        \n",
    "        out_dict[j] = [minm,maxm]\n",
    "    return out_dict\n",
    "\n",
    "\n",
    "input_dictionary = {'A' : [-3, -1, -4, -2, -6],\n",
    "'B' : [3, 1, 4, 2],\n",
    "'C': [1, 3, 4, 5],\n",
    "'D':[0.25,0.33,0.22,54.11]}\n",
    "find_extremae(input_dictionary)"
   ]
  },
  {
   "cell_type": "code",
   "execution_count": null,
   "metadata": {},
   "outputs": [],
   "source": []
  },
  {
   "cell_type": "code",
   "execution_count": null,
   "metadata": {},
   "outputs": [],
   "source": []
  }
 ],
 "metadata": {
  "kernelspec": {
   "display_name": "Python 3",
   "language": "python",
   "name": "python3"
  },
  "language_info": {
   "codemirror_mode": {
    "name": "ipython",
    "version": 3
   },
   "file_extension": ".py",
   "mimetype": "text/x-python",
   "name": "python",
   "nbconvert_exporter": "python",
   "pygments_lexer": "ipython3",
   "version": "3.7.3"
  }
 },
 "nbformat": 4,
 "nbformat_minor": 2
}
