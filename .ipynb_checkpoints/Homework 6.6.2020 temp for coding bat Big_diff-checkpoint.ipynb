{
 "cells": [
  {
   "cell_type": "code",
   "execution_count": 54,
   "metadata": {
    "scrolled": true
   },
   "outputs": [
    {
     "name": "stdout",
     "output_type": "stream",
     "text": [
      "[7, 8, 6, 5]\n",
      "[7, 6, 8, 5]\n",
      "[7, 6, 5, 8]\n",
      "[6, 7, 5, 8]\n",
      "[6, 5, 7, 8]\n",
      "[5, 6, 7, 8]\n",
      "3\n"
     ]
    }
   ],
   "source": [
    "nums = [8,7,6,5]\n",
    "\n",
    "\n",
    "numl = len(nums)\n",
    "for i in range(numl-1):\n",
    "    #print(i)\n",
    "    for z in range(numl-1):\n",
    "        #print(z)\n",
    "         \n",
    "        #if max(nums[i],nums[i+1]) == nums[i] or min(nums[i], nums[i+1]) == nums[i+1]:\n",
    "        if nums[z]>nums[z+1]:\n",
    "            temp = nums[z+1]\n",
    "           \n",
    "            \n",
    "            nums[z+1] = nums[z]\n",
    "            nums[z] = temp\n",
    "            \n",
    "            print(nums)\n",
    "            \n",
    "    \n",
    "        \n",
    "        \n",
    "\n",
    "\n",
    "\n",
    "print(nums[-1] - nums[0])\n",
    "\n"
   ]
  },
  {
   "cell_type": "markdown",
   "metadata": {},
   "source": [
    "\n",
    "### Given an array length 1 or more of ints, return the difference between the largest and smallest values in the array. Note: the built-in min(v1, v2) and max(v1, v2) functions return the smaller or larger of two values.\n",
    "\n",
    "big_diff([10, 3, 5, 6]) → 7\n",
    "big_diff([7, 2, 10, 9]) → 8\n",
    "big_diff([2, 10, 7, 2]) → 8"
   ]
  },
  {
   "cell_type": "code",
   "execution_count": null,
   "metadata": {},
   "outputs": [],
   "source": []
  }
 ],
 "metadata": {
  "kernelspec": {
   "display_name": "Python 3",
   "language": "python",
   "name": "python3"
  },
  "language_info": {
   "codemirror_mode": {
    "name": "ipython",
    "version": 3
   },
   "file_extension": ".py",
   "mimetype": "text/x-python",
   "name": "python",
   "nbconvert_exporter": "python",
   "pygments_lexer": "ipython3",
   "version": "3.7.3"
  }
 },
 "nbformat": 4,
 "nbformat_minor": 2
}
