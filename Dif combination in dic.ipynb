{
 "cells": [
  {
   "cell_type": "markdown",
   "metadata": {},
   "source": [
    "HW: Write a Python program to create and display all combinations of letters, selecting each letter from a different key in a dictionary. \n",
    "Sample data : {'1':['a','b'], '2':['c','d']}\n",
    "Expected Output:\n",
    "ac\n",
    "ad\n",
    "bc\n",
    "bd\n"
   ]
  },
  {
   "cell_type": "code",
   "execution_count": 3,
   "metadata": {},
   "outputs": [
    {
     "name": "stdout",
     "output_type": "stream",
     "text": [
      "ac/n\n",
      "ad\n",
      "bc/n\n",
      "bd\n"
     ]
    }
   ],
   "source": [
    "def problem(dic):\n",
    "    \n",
    "    print (dic['1'][0] + dic['2'][0])\n",
    "    print (dic['1'][0] + dic['2'][1])\n",
    "    print (dic['1'][1] + dic['2'][0])\n",
    "    print (dic['1'][1] + dic['2'][1])\n",
    "\"\"\"\n",
    "    gh = len(dic['1'])\n",
    "    counter = 0\n",
    "    g = 0\n",
    "    k = []\n",
    "    while g==0 :\n",
    "        for x in range(len(dic)):\n",
    "                for y in range(gh):\n",
    "                    for z in range(gh):\n",
    "                        if x == 0:\n",
    "                            k.append(str(dic[str(x+1)][y]) + ',' + str(dic[str(x+1+1)][z])\n",
    "                        elif x == 1:\n",
    "                            k.append(str(dic[str(x+1)][y]) + ',' + str(dic[str(x+1-1)][z])\n",
    "\"\"\"\n",
    "                       \n",
    "            \n",
    "        \n",
    "        \n",
    "dic = {'1':['a','b'], '2':['c','d']}\n",
    "problem(dic)"
   ]
  },
  {
   "cell_type": "code",
   "execution_count": null,
   "metadata": {},
   "outputs": [],
   "source": []
  },
  {
   "cell_type": "code",
   "execution_count": null,
   "metadata": {},
   "outputs": [],
   "source": []
  }
 ],
 "metadata": {
  "kernelspec": {
   "display_name": "Python 3",
   "language": "python",
   "name": "python3"
  },
  "language_info": {
   "codemirror_mode": {
    "name": "ipython",
    "version": 3
   },
   "file_extension": ".py",
   "mimetype": "text/x-python",
   "name": "python",
   "nbconvert_exporter": "python",
   "pygments_lexer": "ipython3",
   "version": "3.7.3"
  }
 },
 "nbformat": 4,
 "nbformat_minor": 2
}
